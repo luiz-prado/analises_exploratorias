{
 "cells": [
  {
   "cell_type": "code",
   "execution_count": 1,
   "metadata": {},
   "outputs": [],
   "source": [
    "import pandas as pd\n",
    "import numpy as np\n",
    "import matplotlib.pyplot as plt\n",
    "import matplotlib.ticker as tck\n",
    "import seaborn as sns\n",
    "import plotly.express as px\n",
    "import plotly.graph_objects as go\n",
    "sns.set(style=\"whitegrid\")"
   ]
  },
  {
   "cell_type": "markdown",
   "metadata": {},
   "source": [
    "## ***Coleta e preparação dos dados***"
   ]
  },
  {
   "cell_type": "code",
   "execution_count": 2,
   "metadata": {},
   "outputs": [],
   "source": [
    "# Importando os dados\n",
    "df_taylor = pd.read_csv(r'../dados/taylor_swift_spotify.csv', sep=',')"
   ]
  },
  {
   "cell_type": "code",
   "execution_count": 3,
   "metadata": {},
   "outputs": [
    {
     "data": {
      "text/html": [
       "<div>\n",
       "<style scoped>\n",
       "    .dataframe tbody tr th:only-of-type {\n",
       "        vertical-align: middle;\n",
       "    }\n",
       "\n",
       "    .dataframe tbody tr th {\n",
       "        vertical-align: top;\n",
       "    }\n",
       "\n",
       "    .dataframe thead th {\n",
       "        text-align: right;\n",
       "    }\n",
       "</style>\n",
       "<table border=\"1\" class=\"dataframe\">\n",
       "  <thead>\n",
       "    <tr style=\"text-align: right;\">\n",
       "      <th></th>\n",
       "      <th>Unnamed: 0</th>\n",
       "      <th>name</th>\n",
       "      <th>album</th>\n",
       "      <th>release_date</th>\n",
       "      <th>track_number</th>\n",
       "      <th>id</th>\n",
       "      <th>uri</th>\n",
       "      <th>acousticness</th>\n",
       "      <th>danceability</th>\n",
       "      <th>energy</th>\n",
       "      <th>instrumentalness</th>\n",
       "      <th>liveness</th>\n",
       "      <th>loudness</th>\n",
       "      <th>speechiness</th>\n",
       "      <th>tempo</th>\n",
       "      <th>valence</th>\n",
       "      <th>popularity</th>\n",
       "      <th>duration_ms</th>\n",
       "    </tr>\n",
       "  </thead>\n",
       "  <tbody>\n",
       "    <tr>\n",
       "      <th>0</th>\n",
       "      <td>0</td>\n",
       "      <td>Welcome To New York (Taylor's Version)</td>\n",
       "      <td>1989 (Taylor's Version) [Deluxe]</td>\n",
       "      <td>2023-10-27</td>\n",
       "      <td>1</td>\n",
       "      <td>4WUepByoeqcedHoYhSNHRt</td>\n",
       "      <td>spotify:track:4WUepByoeqcedHoYhSNHRt</td>\n",
       "      <td>0.009420</td>\n",
       "      <td>0.757</td>\n",
       "      <td>0.610</td>\n",
       "      <td>0.000037</td>\n",
       "      <td>0.3670</td>\n",
       "      <td>-4.840</td>\n",
       "      <td>0.0327</td>\n",
       "      <td>116.998</td>\n",
       "      <td>0.685</td>\n",
       "      <td>70</td>\n",
       "      <td>212600</td>\n",
       "    </tr>\n",
       "    <tr>\n",
       "      <th>1</th>\n",
       "      <td>1</td>\n",
       "      <td>Blank Space (Taylor's Version)</td>\n",
       "      <td>1989 (Taylor's Version) [Deluxe]</td>\n",
       "      <td>2023-10-27</td>\n",
       "      <td>2</td>\n",
       "      <td>0108kcWLnn2HlH2kedi1gn</td>\n",
       "      <td>spotify:track:0108kcWLnn2HlH2kedi1gn</td>\n",
       "      <td>0.088500</td>\n",
       "      <td>0.733</td>\n",
       "      <td>0.733</td>\n",
       "      <td>0.000000</td>\n",
       "      <td>0.1680</td>\n",
       "      <td>-5.376</td>\n",
       "      <td>0.0670</td>\n",
       "      <td>96.057</td>\n",
       "      <td>0.701</td>\n",
       "      <td>71</td>\n",
       "      <td>231833</td>\n",
       "    </tr>\n",
       "    <tr>\n",
       "      <th>2</th>\n",
       "      <td>2</td>\n",
       "      <td>Style (Taylor's Version)</td>\n",
       "      <td>1989 (Taylor's Version) [Deluxe]</td>\n",
       "      <td>2023-10-27</td>\n",
       "      <td>3</td>\n",
       "      <td>3Vpk1hfMAQme8VJ0SNRSkd</td>\n",
       "      <td>spotify:track:3Vpk1hfMAQme8VJ0SNRSkd</td>\n",
       "      <td>0.000421</td>\n",
       "      <td>0.511</td>\n",
       "      <td>0.822</td>\n",
       "      <td>0.019700</td>\n",
       "      <td>0.0899</td>\n",
       "      <td>-4.785</td>\n",
       "      <td>0.0397</td>\n",
       "      <td>94.868</td>\n",
       "      <td>0.305</td>\n",
       "      <td>72</td>\n",
       "      <td>231000</td>\n",
       "    </tr>\n",
       "    <tr>\n",
       "      <th>3</th>\n",
       "      <td>3</td>\n",
       "      <td>Out Of The Woods (Taylor's Version)</td>\n",
       "      <td>1989 (Taylor's Version) [Deluxe]</td>\n",
       "      <td>2023-10-27</td>\n",
       "      <td>4</td>\n",
       "      <td>1OcSfkeCg9hRC2sFKB4IMJ</td>\n",
       "      <td>spotify:track:1OcSfkeCg9hRC2sFKB4IMJ</td>\n",
       "      <td>0.000537</td>\n",
       "      <td>0.545</td>\n",
       "      <td>0.885</td>\n",
       "      <td>0.000056</td>\n",
       "      <td>0.3850</td>\n",
       "      <td>-5.968</td>\n",
       "      <td>0.0447</td>\n",
       "      <td>92.021</td>\n",
       "      <td>0.206</td>\n",
       "      <td>71</td>\n",
       "      <td>235800</td>\n",
       "    </tr>\n",
       "    <tr>\n",
       "      <th>4</th>\n",
       "      <td>4</td>\n",
       "      <td>All You Had To Do Was Stay (Taylor's Version)</td>\n",
       "      <td>1989 (Taylor's Version) [Deluxe]</td>\n",
       "      <td>2023-10-27</td>\n",
       "      <td>5</td>\n",
       "      <td>2k0ZEeAqzvYMcx9Qt5aClQ</td>\n",
       "      <td>spotify:track:2k0ZEeAqzvYMcx9Qt5aClQ</td>\n",
       "      <td>0.000656</td>\n",
       "      <td>0.588</td>\n",
       "      <td>0.721</td>\n",
       "      <td>0.000000</td>\n",
       "      <td>0.1310</td>\n",
       "      <td>-5.579</td>\n",
       "      <td>0.0317</td>\n",
       "      <td>96.997</td>\n",
       "      <td>0.520</td>\n",
       "      <td>70</td>\n",
       "      <td>193289</td>\n",
       "    </tr>\n",
       "  </tbody>\n",
       "</table>\n",
       "</div>"
      ],
      "text/plain": [
       "   Unnamed: 0                                           name  \\\n",
       "0           0         Welcome To New York (Taylor's Version)   \n",
       "1           1                 Blank Space (Taylor's Version)   \n",
       "2           2                       Style (Taylor's Version)   \n",
       "3           3            Out Of The Woods (Taylor's Version)   \n",
       "4           4  All You Had To Do Was Stay (Taylor's Version)   \n",
       "\n",
       "                              album release_date  track_number  \\\n",
       "0  1989 (Taylor's Version) [Deluxe]   2023-10-27             1   \n",
       "1  1989 (Taylor's Version) [Deluxe]   2023-10-27             2   \n",
       "2  1989 (Taylor's Version) [Deluxe]   2023-10-27             3   \n",
       "3  1989 (Taylor's Version) [Deluxe]   2023-10-27             4   \n",
       "4  1989 (Taylor's Version) [Deluxe]   2023-10-27             5   \n",
       "\n",
       "                       id                                   uri  acousticness  \\\n",
       "0  4WUepByoeqcedHoYhSNHRt  spotify:track:4WUepByoeqcedHoYhSNHRt      0.009420   \n",
       "1  0108kcWLnn2HlH2kedi1gn  spotify:track:0108kcWLnn2HlH2kedi1gn      0.088500   \n",
       "2  3Vpk1hfMAQme8VJ0SNRSkd  spotify:track:3Vpk1hfMAQme8VJ0SNRSkd      0.000421   \n",
       "3  1OcSfkeCg9hRC2sFKB4IMJ  spotify:track:1OcSfkeCg9hRC2sFKB4IMJ      0.000537   \n",
       "4  2k0ZEeAqzvYMcx9Qt5aClQ  spotify:track:2k0ZEeAqzvYMcx9Qt5aClQ      0.000656   \n",
       "\n",
       "   danceability  energy  instrumentalness  liveness  loudness  speechiness  \\\n",
       "0         0.757   0.610          0.000037    0.3670    -4.840       0.0327   \n",
       "1         0.733   0.733          0.000000    0.1680    -5.376       0.0670   \n",
       "2         0.511   0.822          0.019700    0.0899    -4.785       0.0397   \n",
       "3         0.545   0.885          0.000056    0.3850    -5.968       0.0447   \n",
       "4         0.588   0.721          0.000000    0.1310    -5.579       0.0317   \n",
       "\n",
       "     tempo  valence  popularity  duration_ms  \n",
       "0  116.998    0.685          70       212600  \n",
       "1   96.057    0.701          71       231833  \n",
       "2   94.868    0.305          72       231000  \n",
       "3   92.021    0.206          71       235800  \n",
       "4   96.997    0.520          70       193289  "
      ]
     },
     "execution_count": 3,
     "metadata": {},
     "output_type": "execute_result"
    }
   ],
   "source": [
    "df_taylor.head()"
   ]
  },
  {
   "cell_type": "code",
   "execution_count": 4,
   "metadata": {},
   "outputs": [
    {
     "data": {
      "text/plain": [
       "Index(['Unnamed: 0', 'name', 'album', 'release_date', 'track_number', 'id',\n",
       "       'uri', 'acousticness', 'danceability', 'energy', 'instrumentalness',\n",
       "       'liveness', 'loudness', 'speechiness', 'tempo', 'valence', 'popularity',\n",
       "       'duration_ms'],\n",
       "      dtype='object')"
      ]
     },
     "execution_count": 4,
     "metadata": {},
     "output_type": "execute_result"
    }
   ],
   "source": [
    "df_taylor.columns"
   ]
  },
  {
   "cell_type": "code",
   "execution_count": 5,
   "metadata": {},
   "outputs": [
    {
     "data": {
      "text/html": [
       "<div>\n",
       "<style scoped>\n",
       "    .dataframe tbody tr th:only-of-type {\n",
       "        vertical-align: middle;\n",
       "    }\n",
       "\n",
       "    .dataframe tbody tr th {\n",
       "        vertical-align: top;\n",
       "    }\n",
       "\n",
       "    .dataframe thead th {\n",
       "        text-align: right;\n",
       "    }\n",
       "</style>\n",
       "<table border=\"1\" class=\"dataframe\">\n",
       "  <thead>\n",
       "    <tr style=\"text-align: right;\">\n",
       "      <th></th>\n",
       "      <th>name</th>\n",
       "      <th>album</th>\n",
       "      <th>release_date</th>\n",
       "      <th>track_number</th>\n",
       "      <th>acousticness</th>\n",
       "      <th>danceability</th>\n",
       "      <th>energy</th>\n",
       "      <th>instrumentalness</th>\n",
       "      <th>liveness</th>\n",
       "      <th>loudness</th>\n",
       "      <th>speechiness</th>\n",
       "      <th>tempo</th>\n",
       "      <th>valence</th>\n",
       "      <th>popularity</th>\n",
       "      <th>duration_ms</th>\n",
       "    </tr>\n",
       "  </thead>\n",
       "  <tbody>\n",
       "    <tr>\n",
       "      <th>0</th>\n",
       "      <td>Welcome To New York (Taylor's Version)</td>\n",
       "      <td>1989 (Taylor's Version) [Deluxe]</td>\n",
       "      <td>2023-10-27</td>\n",
       "      <td>1</td>\n",
       "      <td>0.009420</td>\n",
       "      <td>0.757</td>\n",
       "      <td>0.610</td>\n",
       "      <td>0.000037</td>\n",
       "      <td>0.3670</td>\n",
       "      <td>-4.840</td>\n",
       "      <td>0.0327</td>\n",
       "      <td>116.998</td>\n",
       "      <td>0.685</td>\n",
       "      <td>70</td>\n",
       "      <td>212600</td>\n",
       "    </tr>\n",
       "    <tr>\n",
       "      <th>1</th>\n",
       "      <td>Blank Space (Taylor's Version)</td>\n",
       "      <td>1989 (Taylor's Version) [Deluxe]</td>\n",
       "      <td>2023-10-27</td>\n",
       "      <td>2</td>\n",
       "      <td>0.088500</td>\n",
       "      <td>0.733</td>\n",
       "      <td>0.733</td>\n",
       "      <td>0.000000</td>\n",
       "      <td>0.1680</td>\n",
       "      <td>-5.376</td>\n",
       "      <td>0.0670</td>\n",
       "      <td>96.057</td>\n",
       "      <td>0.701</td>\n",
       "      <td>71</td>\n",
       "      <td>231833</td>\n",
       "    </tr>\n",
       "    <tr>\n",
       "      <th>2</th>\n",
       "      <td>Style (Taylor's Version)</td>\n",
       "      <td>1989 (Taylor's Version) [Deluxe]</td>\n",
       "      <td>2023-10-27</td>\n",
       "      <td>3</td>\n",
       "      <td>0.000421</td>\n",
       "      <td>0.511</td>\n",
       "      <td>0.822</td>\n",
       "      <td>0.019700</td>\n",
       "      <td>0.0899</td>\n",
       "      <td>-4.785</td>\n",
       "      <td>0.0397</td>\n",
       "      <td>94.868</td>\n",
       "      <td>0.305</td>\n",
       "      <td>72</td>\n",
       "      <td>231000</td>\n",
       "    </tr>\n",
       "    <tr>\n",
       "      <th>3</th>\n",
       "      <td>Out Of The Woods (Taylor's Version)</td>\n",
       "      <td>1989 (Taylor's Version) [Deluxe]</td>\n",
       "      <td>2023-10-27</td>\n",
       "      <td>4</td>\n",
       "      <td>0.000537</td>\n",
       "      <td>0.545</td>\n",
       "      <td>0.885</td>\n",
       "      <td>0.000056</td>\n",
       "      <td>0.3850</td>\n",
       "      <td>-5.968</td>\n",
       "      <td>0.0447</td>\n",
       "      <td>92.021</td>\n",
       "      <td>0.206</td>\n",
       "      <td>71</td>\n",
       "      <td>235800</td>\n",
       "    </tr>\n",
       "    <tr>\n",
       "      <th>4</th>\n",
       "      <td>All You Had To Do Was Stay (Taylor's Version)</td>\n",
       "      <td>1989 (Taylor's Version) [Deluxe]</td>\n",
       "      <td>2023-10-27</td>\n",
       "      <td>5</td>\n",
       "      <td>0.000656</td>\n",
       "      <td>0.588</td>\n",
       "      <td>0.721</td>\n",
       "      <td>0.000000</td>\n",
       "      <td>0.1310</td>\n",
       "      <td>-5.579</td>\n",
       "      <td>0.0317</td>\n",
       "      <td>96.997</td>\n",
       "      <td>0.520</td>\n",
       "      <td>70</td>\n",
       "      <td>193289</td>\n",
       "    </tr>\n",
       "    <tr>\n",
       "      <th>...</th>\n",
       "      <td>...</td>\n",
       "      <td>...</td>\n",
       "      <td>...</td>\n",
       "      <td>...</td>\n",
       "      <td>...</td>\n",
       "      <td>...</td>\n",
       "      <td>...</td>\n",
       "      <td>...</td>\n",
       "      <td>...</td>\n",
       "      <td>...</td>\n",
       "      <td>...</td>\n",
       "      <td>...</td>\n",
       "      <td>...</td>\n",
       "      <td>...</td>\n",
       "      <td>...</td>\n",
       "    </tr>\n",
       "    <tr>\n",
       "      <th>525</th>\n",
       "      <td>Our Song</td>\n",
       "      <td>Taylor Swift</td>\n",
       "      <td>2006-10-24</td>\n",
       "      <td>11</td>\n",
       "      <td>0.111000</td>\n",
       "      <td>0.668</td>\n",
       "      <td>0.672</td>\n",
       "      <td>0.000000</td>\n",
       "      <td>0.3290</td>\n",
       "      <td>-4.931</td>\n",
       "      <td>0.0303</td>\n",
       "      <td>89.011</td>\n",
       "      <td>0.539</td>\n",
       "      <td>76</td>\n",
       "      <td>201106</td>\n",
       "    </tr>\n",
       "    <tr>\n",
       "      <th>526</th>\n",
       "      <td>I'm Only Me When I'm With You</td>\n",
       "      <td>Taylor Swift</td>\n",
       "      <td>2006-10-24</td>\n",
       "      <td>12</td>\n",
       "      <td>0.004520</td>\n",
       "      <td>0.563</td>\n",
       "      <td>0.934</td>\n",
       "      <td>0.000807</td>\n",
       "      <td>0.1030</td>\n",
       "      <td>-3.629</td>\n",
       "      <td>0.0646</td>\n",
       "      <td>143.964</td>\n",
       "      <td>0.518</td>\n",
       "      <td>62</td>\n",
       "      <td>213053</td>\n",
       "    </tr>\n",
       "    <tr>\n",
       "      <th>527</th>\n",
       "      <td>Invisible</td>\n",
       "      <td>Taylor Swift</td>\n",
       "      <td>2006-10-24</td>\n",
       "      <td>13</td>\n",
       "      <td>0.637000</td>\n",
       "      <td>0.612</td>\n",
       "      <td>0.394</td>\n",
       "      <td>0.000000</td>\n",
       "      <td>0.1470</td>\n",
       "      <td>-5.723</td>\n",
       "      <td>0.0243</td>\n",
       "      <td>96.001</td>\n",
       "      <td>0.233</td>\n",
       "      <td>58</td>\n",
       "      <td>203226</td>\n",
       "    </tr>\n",
       "    <tr>\n",
       "      <th>528</th>\n",
       "      <td>A Perfectly Good Heart</td>\n",
       "      <td>Taylor Swift</td>\n",
       "      <td>2006-10-24</td>\n",
       "      <td>14</td>\n",
       "      <td>0.003490</td>\n",
       "      <td>0.483</td>\n",
       "      <td>0.751</td>\n",
       "      <td>0.000000</td>\n",
       "      <td>0.1280</td>\n",
       "      <td>-5.726</td>\n",
       "      <td>0.0365</td>\n",
       "      <td>156.092</td>\n",
       "      <td>0.268</td>\n",
       "      <td>57</td>\n",
       "      <td>220146</td>\n",
       "    </tr>\n",
       "    <tr>\n",
       "      <th>529</th>\n",
       "      <td>Teardrops on My Guitar - Pop Version</td>\n",
       "      <td>Taylor Swift</td>\n",
       "      <td>2006-10-24</td>\n",
       "      <td>15</td>\n",
       "      <td>0.040200</td>\n",
       "      <td>0.459</td>\n",
       "      <td>0.753</td>\n",
       "      <td>0.000000</td>\n",
       "      <td>0.0863</td>\n",
       "      <td>-3.827</td>\n",
       "      <td>0.0537</td>\n",
       "      <td>199.997</td>\n",
       "      <td>0.483</td>\n",
       "      <td>57</td>\n",
       "      <td>179066</td>\n",
       "    </tr>\n",
       "  </tbody>\n",
       "</table>\n",
       "<p>530 rows × 15 columns</p>\n",
       "</div>"
      ],
      "text/plain": [
       "                                              name  \\\n",
       "0           Welcome To New York (Taylor's Version)   \n",
       "1                   Blank Space (Taylor's Version)   \n",
       "2                         Style (Taylor's Version)   \n",
       "3              Out Of The Woods (Taylor's Version)   \n",
       "4    All You Had To Do Was Stay (Taylor's Version)   \n",
       "..                                             ...   \n",
       "525                                       Our Song   \n",
       "526                  I'm Only Me When I'm With You   \n",
       "527                                      Invisible   \n",
       "528                         A Perfectly Good Heart   \n",
       "529           Teardrops on My Guitar - Pop Version   \n",
       "\n",
       "                                album release_date  track_number  \\\n",
       "0    1989 (Taylor's Version) [Deluxe]   2023-10-27             1   \n",
       "1    1989 (Taylor's Version) [Deluxe]   2023-10-27             2   \n",
       "2    1989 (Taylor's Version) [Deluxe]   2023-10-27             3   \n",
       "3    1989 (Taylor's Version) [Deluxe]   2023-10-27             4   \n",
       "4    1989 (Taylor's Version) [Deluxe]   2023-10-27             5   \n",
       "..                                ...          ...           ...   \n",
       "525                      Taylor Swift   2006-10-24            11   \n",
       "526                      Taylor Swift   2006-10-24            12   \n",
       "527                      Taylor Swift   2006-10-24            13   \n",
       "528                      Taylor Swift   2006-10-24            14   \n",
       "529                      Taylor Swift   2006-10-24            15   \n",
       "\n",
       "     acousticness  danceability  energy  instrumentalness  liveness  loudness  \\\n",
       "0        0.009420         0.757   0.610          0.000037    0.3670    -4.840   \n",
       "1        0.088500         0.733   0.733          0.000000    0.1680    -5.376   \n",
       "2        0.000421         0.511   0.822          0.019700    0.0899    -4.785   \n",
       "3        0.000537         0.545   0.885          0.000056    0.3850    -5.968   \n",
       "4        0.000656         0.588   0.721          0.000000    0.1310    -5.579   \n",
       "..            ...           ...     ...               ...       ...       ...   \n",
       "525      0.111000         0.668   0.672          0.000000    0.3290    -4.931   \n",
       "526      0.004520         0.563   0.934          0.000807    0.1030    -3.629   \n",
       "527      0.637000         0.612   0.394          0.000000    0.1470    -5.723   \n",
       "528      0.003490         0.483   0.751          0.000000    0.1280    -5.726   \n",
       "529      0.040200         0.459   0.753          0.000000    0.0863    -3.827   \n",
       "\n",
       "     speechiness    tempo  valence  popularity  duration_ms  \n",
       "0         0.0327  116.998    0.685          70       212600  \n",
       "1         0.0670   96.057    0.701          71       231833  \n",
       "2         0.0397   94.868    0.305          72       231000  \n",
       "3         0.0447   92.021    0.206          71       235800  \n",
       "4         0.0317   96.997    0.520          70       193289  \n",
       "..           ...      ...      ...         ...          ...  \n",
       "525       0.0303   89.011    0.539          76       201106  \n",
       "526       0.0646  143.964    0.518          62       213053  \n",
       "527       0.0243   96.001    0.233          58       203226  \n",
       "528       0.0365  156.092    0.268          57       220146  \n",
       "529       0.0537  199.997    0.483          57       179066  \n",
       "\n",
       "[530 rows x 15 columns]"
      ]
     },
     "execution_count": 5,
     "metadata": {},
     "output_type": "execute_result"
    }
   ],
   "source": [
    "df_taytay = df_taylor.drop(['Unnamed: 0', 'id', 'uri'], axis=1)\n",
    "df_taytay"
   ]
  },
  {
   "cell_type": "code",
   "execution_count": 7,
   "metadata": {},
   "outputs": [
    {
     "name": "stdout",
     "output_type": "stream",
     "text": [
      "<class 'pandas.core.frame.DataFrame'>\n",
      "RangeIndex: 530 entries, 0 to 529\n",
      "Data columns (total 15 columns):\n",
      " #   Column            Non-Null Count  Dtype  \n",
      "---  ------            --------------  -----  \n",
      " 0   name              530 non-null    object \n",
      " 1   album             530 non-null    object \n",
      " 2   release_date      530 non-null    object \n",
      " 3   track_number      530 non-null    int64  \n",
      " 4   acousticness      530 non-null    float64\n",
      " 5   danceability      530 non-null    float64\n",
      " 6   energy            530 non-null    float64\n",
      " 7   instrumentalness  530 non-null    float64\n",
      " 8   liveness          530 non-null    float64\n",
      " 9   loudness          530 non-null    float64\n",
      " 10  speechiness       530 non-null    float64\n",
      " 11  tempo             530 non-null    float64\n",
      " 12  valence           530 non-null    float64\n",
      " 13  popularity        530 non-null    int64  \n",
      " 14  duration_ms       530 non-null    int64  \n",
      "dtypes: float64(9), int64(3), object(3)\n",
      "memory usage: 62.2+ KB\n"
     ]
    }
   ],
   "source": [
    "df_taytay.info()"
   ]
  },
  {
   "cell_type": "code",
   "execution_count": 13,
   "metadata": {},
   "outputs": [],
   "source": [
    "df_taytay['artista'] = 'Taylor Swift'"
   ]
  },
  {
   "cell_type": "code",
   "execution_count": 8,
   "metadata": {},
   "outputs": [
    {
     "name": "stdout",
     "output_type": "stream",
     "text": [
      "<class 'pandas.core.frame.DataFrame'>\n",
      "RangeIndex: 530 entries, 0 to 529\n",
      "Data columns (total 15 columns):\n",
      " #   Column            Non-Null Count  Dtype         \n",
      "---  ------            --------------  -----         \n",
      " 0   name              530 non-null    object        \n",
      " 1   album             530 non-null    object        \n",
      " 2   release_date      530 non-null    datetime64[ns]\n",
      " 3   track_number      530 non-null    int64         \n",
      " 4   acousticness      530 non-null    float64       \n",
      " 5   danceability      530 non-null    float64       \n",
      " 6   energy            530 non-null    float64       \n",
      " 7   instrumentalness  530 non-null    float64       \n",
      " 8   liveness          530 non-null    float64       \n",
      " 9   loudness          530 non-null    float64       \n",
      " 10  speechiness       530 non-null    float64       \n",
      " 11  tempo             530 non-null    float64       \n",
      " 12  valence           530 non-null    float64       \n",
      " 13  popularity        530 non-null    int64         \n",
      " 14  duration_ms       530 non-null    int64         \n",
      "dtypes: datetime64[ns](1), float64(9), int64(3), object(2)\n",
      "memory usage: 62.2+ KB\n"
     ]
    }
   ],
   "source": [
    "# Convertendo a coluna 'release_date' para datetime\n",
    "\n",
    "df_taytay['release_date'] = pd.to_datetime(df_taytay['release_date'], format='%Y-%m-%d')\n",
    "df_taytay.info()"
   ]
  },
  {
   "cell_type": "code",
   "execution_count": 14,
   "metadata": {},
   "outputs": [
    {
     "data": {
      "text/html": [
       "<div>\n",
       "<style scoped>\n",
       "    .dataframe tbody tr th:only-of-type {\n",
       "        vertical-align: middle;\n",
       "    }\n",
       "\n",
       "    .dataframe tbody tr th {\n",
       "        vertical-align: top;\n",
       "    }\n",
       "\n",
       "    .dataframe thead th {\n",
       "        text-align: right;\n",
       "    }\n",
       "</style>\n",
       "<table border=\"1\" class=\"dataframe\">\n",
       "  <thead>\n",
       "    <tr style=\"text-align: right;\">\n",
       "      <th></th>\n",
       "      <th>artista</th>\n",
       "      <th>name</th>\n",
       "      <th>album</th>\n",
       "      <th>release_date</th>\n",
       "      <th>track_number</th>\n",
       "      <th>acousticness</th>\n",
       "      <th>danceability</th>\n",
       "      <th>energy</th>\n",
       "      <th>instrumentalness</th>\n",
       "      <th>liveness</th>\n",
       "      <th>loudness</th>\n",
       "      <th>speechiness</th>\n",
       "      <th>tempo</th>\n",
       "      <th>valence</th>\n",
       "      <th>popularity</th>\n",
       "      <th>duration_ms</th>\n",
       "    </tr>\n",
       "  </thead>\n",
       "  <tbody>\n",
       "    <tr>\n",
       "      <th>0</th>\n",
       "      <td>Taylor Swift</td>\n",
       "      <td>Welcome To New York (Taylor's Version)</td>\n",
       "      <td>1989 (Taylor's Version) [Deluxe]</td>\n",
       "      <td>2023-10-27</td>\n",
       "      <td>1</td>\n",
       "      <td>0.009420</td>\n",
       "      <td>0.757</td>\n",
       "      <td>0.610</td>\n",
       "      <td>0.000037</td>\n",
       "      <td>0.3670</td>\n",
       "      <td>-4.840</td>\n",
       "      <td>0.0327</td>\n",
       "      <td>116.998</td>\n",
       "      <td>0.685</td>\n",
       "      <td>70</td>\n",
       "      <td>212600</td>\n",
       "    </tr>\n",
       "    <tr>\n",
       "      <th>1</th>\n",
       "      <td>Taylor Swift</td>\n",
       "      <td>Blank Space (Taylor's Version)</td>\n",
       "      <td>1989 (Taylor's Version) [Deluxe]</td>\n",
       "      <td>2023-10-27</td>\n",
       "      <td>2</td>\n",
       "      <td>0.088500</td>\n",
       "      <td>0.733</td>\n",
       "      <td>0.733</td>\n",
       "      <td>0.000000</td>\n",
       "      <td>0.1680</td>\n",
       "      <td>-5.376</td>\n",
       "      <td>0.0670</td>\n",
       "      <td>96.057</td>\n",
       "      <td>0.701</td>\n",
       "      <td>71</td>\n",
       "      <td>231833</td>\n",
       "    </tr>\n",
       "    <tr>\n",
       "      <th>2</th>\n",
       "      <td>Taylor Swift</td>\n",
       "      <td>Style (Taylor's Version)</td>\n",
       "      <td>1989 (Taylor's Version) [Deluxe]</td>\n",
       "      <td>2023-10-27</td>\n",
       "      <td>3</td>\n",
       "      <td>0.000421</td>\n",
       "      <td>0.511</td>\n",
       "      <td>0.822</td>\n",
       "      <td>0.019700</td>\n",
       "      <td>0.0899</td>\n",
       "      <td>-4.785</td>\n",
       "      <td>0.0397</td>\n",
       "      <td>94.868</td>\n",
       "      <td>0.305</td>\n",
       "      <td>72</td>\n",
       "      <td>231000</td>\n",
       "    </tr>\n",
       "    <tr>\n",
       "      <th>3</th>\n",
       "      <td>Taylor Swift</td>\n",
       "      <td>Out Of The Woods (Taylor's Version)</td>\n",
       "      <td>1989 (Taylor's Version) [Deluxe]</td>\n",
       "      <td>2023-10-27</td>\n",
       "      <td>4</td>\n",
       "      <td>0.000537</td>\n",
       "      <td>0.545</td>\n",
       "      <td>0.885</td>\n",
       "      <td>0.000056</td>\n",
       "      <td>0.3850</td>\n",
       "      <td>-5.968</td>\n",
       "      <td>0.0447</td>\n",
       "      <td>92.021</td>\n",
       "      <td>0.206</td>\n",
       "      <td>71</td>\n",
       "      <td>235800</td>\n",
       "    </tr>\n",
       "    <tr>\n",
       "      <th>4</th>\n",
       "      <td>Taylor Swift</td>\n",
       "      <td>All You Had To Do Was Stay (Taylor's Version)</td>\n",
       "      <td>1989 (Taylor's Version) [Deluxe]</td>\n",
       "      <td>2023-10-27</td>\n",
       "      <td>5</td>\n",
       "      <td>0.000656</td>\n",
       "      <td>0.588</td>\n",
       "      <td>0.721</td>\n",
       "      <td>0.000000</td>\n",
       "      <td>0.1310</td>\n",
       "      <td>-5.579</td>\n",
       "      <td>0.0317</td>\n",
       "      <td>96.997</td>\n",
       "      <td>0.520</td>\n",
       "      <td>70</td>\n",
       "      <td>193289</td>\n",
       "    </tr>\n",
       "  </tbody>\n",
       "</table>\n",
       "</div>"
      ],
      "text/plain": [
       "        artista                                           name  \\\n",
       "0  Taylor Swift         Welcome To New York (Taylor's Version)   \n",
       "1  Taylor Swift                 Blank Space (Taylor's Version)   \n",
       "2  Taylor Swift                       Style (Taylor's Version)   \n",
       "3  Taylor Swift            Out Of The Woods (Taylor's Version)   \n",
       "4  Taylor Swift  All You Had To Do Was Stay (Taylor's Version)   \n",
       "\n",
       "                              album release_date  track_number  acousticness  \\\n",
       "0  1989 (Taylor's Version) [Deluxe]   2023-10-27             1      0.009420   \n",
       "1  1989 (Taylor's Version) [Deluxe]   2023-10-27             2      0.088500   \n",
       "2  1989 (Taylor's Version) [Deluxe]   2023-10-27             3      0.000421   \n",
       "3  1989 (Taylor's Version) [Deluxe]   2023-10-27             4      0.000537   \n",
       "4  1989 (Taylor's Version) [Deluxe]   2023-10-27             5      0.000656   \n",
       "\n",
       "   danceability  energy  instrumentalness  liveness  loudness  speechiness  \\\n",
       "0         0.757   0.610          0.000037    0.3670    -4.840       0.0327   \n",
       "1         0.733   0.733          0.000000    0.1680    -5.376       0.0670   \n",
       "2         0.511   0.822          0.019700    0.0899    -4.785       0.0397   \n",
       "3         0.545   0.885          0.000056    0.3850    -5.968       0.0447   \n",
       "4         0.588   0.721          0.000000    0.1310    -5.579       0.0317   \n",
       "\n",
       "     tempo  valence  popularity  duration_ms  \n",
       "0  116.998    0.685          70       212600  \n",
       "1   96.057    0.701          71       231833  \n",
       "2   94.868    0.305          72       231000  \n",
       "3   92.021    0.206          71       235800  \n",
       "4   96.997    0.520          70       193289  "
      ]
     },
     "execution_count": 14,
     "metadata": {},
     "output_type": "execute_result"
    }
   ],
   "source": [
    "df_taytay = df_taytay.reindex(columns=['artista', 'name', 'album', 'release_date', 'track_number', 'acousticness', 'danceability', 'energy', 'instrumentalness', \n",
    "                                       'liveness', 'loudness', 'speechiness', 'tempo', 'valence', 'popularity', 'duration_ms'])\n",
    "\n",
    "df_taytay.head()"
   ]
  },
  {
   "cell_type": "code",
   "execution_count": 15,
   "metadata": {},
   "outputs": [
    {
     "data": {
      "text/html": [
       "<div>\n",
       "<style scoped>\n",
       "    .dataframe tbody tr th:only-of-type {\n",
       "        vertical-align: middle;\n",
       "    }\n",
       "\n",
       "    .dataframe tbody tr th {\n",
       "        vertical-align: top;\n",
       "    }\n",
       "\n",
       "    .dataframe thead th {\n",
       "        text-align: right;\n",
       "    }\n",
       "</style>\n",
       "<table border=\"1\" class=\"dataframe\">\n",
       "  <thead>\n",
       "    <tr style=\"text-align: right;\">\n",
       "      <th></th>\n",
       "      <th>track_number</th>\n",
       "      <th>acousticness</th>\n",
       "      <th>danceability</th>\n",
       "      <th>energy</th>\n",
       "      <th>instrumentalness</th>\n",
       "      <th>liveness</th>\n",
       "      <th>loudness</th>\n",
       "      <th>speechiness</th>\n",
       "      <th>tempo</th>\n",
       "      <th>valence</th>\n",
       "      <th>popularity</th>\n",
       "      <th>duration_ms</th>\n",
       "    </tr>\n",
       "  </thead>\n",
       "  <tbody>\n",
       "    <tr>\n",
       "      <th>count</th>\n",
       "      <td>530.000000</td>\n",
       "      <td>530.000000</td>\n",
       "      <td>530.000000</td>\n",
       "      <td>530.000000</td>\n",
       "      <td>530.000000</td>\n",
       "      <td>530.000000</td>\n",
       "      <td>530.000000</td>\n",
       "      <td>530.000000</td>\n",
       "      <td>530.000000</td>\n",
       "      <td>530.000000</td>\n",
       "      <td>530.000000</td>\n",
       "      <td>530.000000</td>\n",
       "    </tr>\n",
       "    <tr>\n",
       "      <th>mean</th>\n",
       "      <td>11.184906</td>\n",
       "      <td>0.319247</td>\n",
       "      <td>0.585285</td>\n",
       "      <td>0.574609</td>\n",
       "      <td>0.004005</td>\n",
       "      <td>0.163492</td>\n",
       "      <td>-7.505434</td>\n",
       "      <td>0.055889</td>\n",
       "      <td>122.332311</td>\n",
       "      <td>0.397379</td>\n",
       "      <td>62.777358</td>\n",
       "      <td>239978.624528</td>\n",
       "    </tr>\n",
       "    <tr>\n",
       "      <th>std</th>\n",
       "      <td>7.981060</td>\n",
       "      <td>0.327043</td>\n",
       "      <td>0.113121</td>\n",
       "      <td>0.191565</td>\n",
       "      <td>0.033163</td>\n",
       "      <td>0.142263</td>\n",
       "      <td>2.939040</td>\n",
       "      <td>0.070300</td>\n",
       "      <td>30.000272</td>\n",
       "      <td>0.199589</td>\n",
       "      <td>15.224702</td>\n",
       "      <td>46119.983031</td>\n",
       "    </tr>\n",
       "    <tr>\n",
       "      <th>min</th>\n",
       "      <td>1.000000</td>\n",
       "      <td>0.000184</td>\n",
       "      <td>0.243000</td>\n",
       "      <td>0.118000</td>\n",
       "      <td>0.000000</td>\n",
       "      <td>0.035700</td>\n",
       "      <td>-17.932000</td>\n",
       "      <td>0.023100</td>\n",
       "      <td>68.097000</td>\n",
       "      <td>0.037400</td>\n",
       "      <td>32.000000</td>\n",
       "      <td>83253.000000</td>\n",
       "    </tr>\n",
       "    <tr>\n",
       "      <th>25%</th>\n",
       "      <td>5.000000</td>\n",
       "      <td>0.036250</td>\n",
       "      <td>0.516000</td>\n",
       "      <td>0.443000</td>\n",
       "      <td>0.000000</td>\n",
       "      <td>0.096600</td>\n",
       "      <td>-9.222000</td>\n",
       "      <td>0.030325</td>\n",
       "      <td>96.939500</td>\n",
       "      <td>0.230000</td>\n",
       "      <td>50.000000</td>\n",
       "      <td>211813.000000</td>\n",
       "    </tr>\n",
       "    <tr>\n",
       "      <th>50%</th>\n",
       "      <td>10.000000</td>\n",
       "      <td>0.165000</td>\n",
       "      <td>0.595500</td>\n",
       "      <td>0.589500</td>\n",
       "      <td>0.000002</td>\n",
       "      <td>0.115000</td>\n",
       "      <td>-7.012000</td>\n",
       "      <td>0.037300</td>\n",
       "      <td>119.030000</td>\n",
       "      <td>0.385500</td>\n",
       "      <td>68.000000</td>\n",
       "      <td>235273.000000</td>\n",
       "    </tr>\n",
       "    <tr>\n",
       "      <th>75%</th>\n",
       "      <td>15.000000</td>\n",
       "      <td>0.653000</td>\n",
       "      <td>0.653000</td>\n",
       "      <td>0.729750</td>\n",
       "      <td>0.000056</td>\n",
       "      <td>0.163000</td>\n",
       "      <td>-5.361750</td>\n",
       "      <td>0.055225</td>\n",
       "      <td>143.934250</td>\n",
       "      <td>0.535000</td>\n",
       "      <td>74.000000</td>\n",
       "      <td>260361.000000</td>\n",
       "    </tr>\n",
       "    <tr>\n",
       "      <th>max</th>\n",
       "      <td>46.000000</td>\n",
       "      <td>0.971000</td>\n",
       "      <td>0.897000</td>\n",
       "      <td>0.950000</td>\n",
       "      <td>0.488000</td>\n",
       "      <td>0.931000</td>\n",
       "      <td>-1.909000</td>\n",
       "      <td>0.912000</td>\n",
       "      <td>208.918000</td>\n",
       "      <td>0.943000</td>\n",
       "      <td>99.000000</td>\n",
       "      <td>613026.000000</td>\n",
       "    </tr>\n",
       "  </tbody>\n",
       "</table>\n",
       "</div>"
      ],
      "text/plain": [
       "       track_number  acousticness  danceability      energy  instrumentalness  \\\n",
       "count    530.000000    530.000000    530.000000  530.000000        530.000000   \n",
       "mean      11.184906      0.319247      0.585285    0.574609          0.004005   \n",
       "std        7.981060      0.327043      0.113121    0.191565          0.033163   \n",
       "min        1.000000      0.000184      0.243000    0.118000          0.000000   \n",
       "25%        5.000000      0.036250      0.516000    0.443000          0.000000   \n",
       "50%       10.000000      0.165000      0.595500    0.589500          0.000002   \n",
       "75%       15.000000      0.653000      0.653000    0.729750          0.000056   \n",
       "max       46.000000      0.971000      0.897000    0.950000          0.488000   \n",
       "\n",
       "         liveness    loudness  speechiness       tempo     valence  \\\n",
       "count  530.000000  530.000000   530.000000  530.000000  530.000000   \n",
       "mean     0.163492   -7.505434     0.055889  122.332311    0.397379   \n",
       "std      0.142263    2.939040     0.070300   30.000272    0.199589   \n",
       "min      0.035700  -17.932000     0.023100   68.097000    0.037400   \n",
       "25%      0.096600   -9.222000     0.030325   96.939500    0.230000   \n",
       "50%      0.115000   -7.012000     0.037300  119.030000    0.385500   \n",
       "75%      0.163000   -5.361750     0.055225  143.934250    0.535000   \n",
       "max      0.931000   -1.909000     0.912000  208.918000    0.943000   \n",
       "\n",
       "       popularity    duration_ms  \n",
       "count  530.000000     530.000000  \n",
       "mean    62.777358  239978.624528  \n",
       "std     15.224702   46119.983031  \n",
       "min     32.000000   83253.000000  \n",
       "25%     50.000000  211813.000000  \n",
       "50%     68.000000  235273.000000  \n",
       "75%     74.000000  260361.000000  \n",
       "max     99.000000  613026.000000  "
      ]
     },
     "execution_count": 15,
     "metadata": {},
     "output_type": "execute_result"
    }
   ],
   "source": [
    "df_taytay.describe()"
   ]
  },
  {
   "cell_type": "code",
   "execution_count": 16,
   "metadata": {},
   "outputs": [
    {
     "data": {
      "text/plain": [
       "array([\"1989 (Taylor's Version) [Deluxe]\", \"1989 (Taylor's Version)\",\n",
       "       \"Speak Now (Taylor's Version)\", 'Midnights (The Til Dawn Edition)',\n",
       "       'Midnights (3am Edition)', 'Midnights', \"Red (Taylor's Version)\",\n",
       "       \"Fearless (Taylor's Version)\", 'evermore (deluxe version)',\n",
       "       'evermore',\n",
       "       'folklore: the long pond studio sessions (from the Disney+ special) [deluxe edition]',\n",
       "       'folklore (deluxe version)', 'folklore', 'Lover', 'reputation',\n",
       "       'reputation Stadium Tour Surprise Song Playlist',\n",
       "       '1989 (Deluxe Edition)', '1989', 'Red (Deluxe Edition)', 'Red',\n",
       "       'Speak Now World Tour Live', 'Speak Now (Deluxe Edition)',\n",
       "       'Speak Now', 'Fearless Platinum Edition', 'Fearless',\n",
       "       'Live From Clear Channel Stripped 2008', 'Taylor Swift'],\n",
       "      dtype=object)"
      ]
     },
     "execution_count": 16,
     "metadata": {},
     "output_type": "execute_result"
    }
   ],
   "source": [
    "df_taytay['album'].unique()"
   ]
  },
  {
   "cell_type": "code",
   "execution_count": 17,
   "metadata": {},
   "outputs": [
    {
     "data": {
      "text/plain": [
       "array([\"1989 (Taylor's Version) [Deluxe]\", \"1989 (Taylor's Version)\",\n",
       "       \"Speak Now (Taylor's Version)\", 'Midnights (The Til Dawn Edition)',\n",
       "       'Midnights (3am Edition)', 'Midnights', \"Red (Taylor's Version)\",\n",
       "       \"Fearless (Taylor's Version)\", 'evermore (deluxe version)',\n",
       "       'evermore', 'folklore (deluxe version)', 'folklore', 'Lover',\n",
       "       'reputation', '1989 (Deluxe Edition)', '1989',\n",
       "       'Red (Deluxe Edition)', 'Red', 'Speak Now (Deluxe Edition)',\n",
       "       'Speak Now', 'Fearless', 'Taylor Swift'], dtype=object)"
      ]
     },
     "execution_count": 17,
     "metadata": {},
     "output_type": "execute_result"
    }
   ],
   "source": [
    "df_taytay = df_taytay.drop(df_taytay[df_taytay['album'].isin(['folklore: the long pond studio sessions (from the Disney+ special) [deluxe edition]',\n",
    "                                                            'reputation Stadium Tour Surprise Song Playlist', 'Speak Now World Tour Live',\n",
    "                                                            'Live From Clear Channel Stripped 2008','Fearless Platinum Edition'])].index)\n",
    "df_taytay['album'].unique()"
   ]
  },
  {
   "cell_type": "markdown",
   "metadata": {},
   "source": [
    "___\n",
    "## ***Exploração dos Dados***"
   ]
  },
  {
   "cell_type": "code",
   "execution_count": 18,
   "metadata": {},
   "outputs": [
    {
     "name": "stdout",
     "output_type": "stream",
     "text": [
      "album\n",
      "reputation                          82.533333\n",
      "Lover                               82.333333\n",
      "Midnights                           81.384615\n",
      "1989 (Taylor's Version)             80.952381\n",
      "folklore                            79.437500\n",
      "Speak Now (Taylor's Version)        76.409091\n",
      "Red (Taylor's Version)              73.566667\n",
      "evermore                            73.533333\n",
      "folklore (deluxe version)           72.470588\n",
      "evermore (deluxe version)           72.000000\n",
      "Fearless (Taylor's Version)         71.576923\n",
      "Midnights (3am Edition)             70.500000\n",
      "1989 (Taylor's Version) [Deluxe]    70.454545\n",
      "Midnights (The Til Dawn Edition)    70.130435\n",
      "Taylor Swift                        62.933333\n",
      "1989                                61.307692\n",
      "Speak Now                           56.571429\n",
      "1989 (Deluxe Edition)               53.736842\n",
      "Fearless                            53.230769\n",
      "Speak Now (Deluxe Edition)          50.850000\n",
      "Red                                 47.312500\n",
      "Red (Deluxe Edition)                45.772727\n",
      "Name: popularity, dtype: float64\n"
     ]
    }
   ],
   "source": [
    "album_pop = df_taytay.groupby('album')['popularity'].mean().sort_values(ascending=False)\n",
    "print(album_pop)"
   ]
  },
  {
   "cell_type": "code",
   "execution_count": 63,
   "metadata": {},
   "outputs": [
    {
     "data": {
      "application/vnd.plotly.v1+json": {
       "config": {
        "plotlyServerURL": "https://plot.ly"
       },
       "data": [
        {
         "fillpattern": {
          "shape": ""
         },
         "hovertemplate": "Ano=%{x}<br>Qtd. de Musicas=%{y}<extra></extra>",
         "legendgroup": "",
         "line": {
          "color": "purple"
         },
         "marker": {
          "symbol": "circle"
         },
         "mode": "lines+markers",
         "name": "",
         "orientation": "v",
         "showlegend": false,
         "stackgroup": "1",
         "type": "scatter",
         "x": [
          2006,
          2008,
          2010,
          2012,
          2014,
          2017,
          2019,
          2020,
          2021,
          2022,
          2023
         ],
         "xaxis": "x",
         "y": [
          15,
          13,
          34,
          38,
          32,
          15,
          18,
          48,
          73,
          33,
          88
         ],
         "yaxis": "y"
        }
       ],
       "layout": {
        "hovermode": "x",
        "legend": {
         "tracegroupgap": 0
        },
        "template": {
         "data": {
          "bar": [
           {
            "error_x": {
             "color": "#2a3f5f"
            },
            "error_y": {
             "color": "#2a3f5f"
            },
            "marker": {
             "line": {
              "color": "#E5ECF6",
              "width": 0.5
             },
             "pattern": {
              "fillmode": "overlay",
              "size": 10,
              "solidity": 0.2
             }
            },
            "type": "bar"
           }
          ],
          "barpolar": [
           {
            "marker": {
             "line": {
              "color": "#E5ECF6",
              "width": 0.5
             },
             "pattern": {
              "fillmode": "overlay",
              "size": 10,
              "solidity": 0.2
             }
            },
            "type": "barpolar"
           }
          ],
          "carpet": [
           {
            "aaxis": {
             "endlinecolor": "#2a3f5f",
             "gridcolor": "white",
             "linecolor": "white",
             "minorgridcolor": "white",
             "startlinecolor": "#2a3f5f"
            },
            "baxis": {
             "endlinecolor": "#2a3f5f",
             "gridcolor": "white",
             "linecolor": "white",
             "minorgridcolor": "white",
             "startlinecolor": "#2a3f5f"
            },
            "type": "carpet"
           }
          ],
          "choropleth": [
           {
            "colorbar": {
             "outlinewidth": 0,
             "ticks": ""
            },
            "type": "choropleth"
           }
          ],
          "contour": [
           {
            "colorbar": {
             "outlinewidth": 0,
             "ticks": ""
            },
            "colorscale": [
             [
              0,
              "#0d0887"
             ],
             [
              0.1111111111111111,
              "#46039f"
             ],
             [
              0.2222222222222222,
              "#7201a8"
             ],
             [
              0.3333333333333333,
              "#9c179e"
             ],
             [
              0.4444444444444444,
              "#bd3786"
             ],
             [
              0.5555555555555556,
              "#d8576b"
             ],
             [
              0.6666666666666666,
              "#ed7953"
             ],
             [
              0.7777777777777778,
              "#fb9f3a"
             ],
             [
              0.8888888888888888,
              "#fdca26"
             ],
             [
              1,
              "#f0f921"
             ]
            ],
            "type": "contour"
           }
          ],
          "contourcarpet": [
           {
            "colorbar": {
             "outlinewidth": 0,
             "ticks": ""
            },
            "type": "contourcarpet"
           }
          ],
          "heatmap": [
           {
            "colorbar": {
             "outlinewidth": 0,
             "ticks": ""
            },
            "colorscale": [
             [
              0,
              "#0d0887"
             ],
             [
              0.1111111111111111,
              "#46039f"
             ],
             [
              0.2222222222222222,
              "#7201a8"
             ],
             [
              0.3333333333333333,
              "#9c179e"
             ],
             [
              0.4444444444444444,
              "#bd3786"
             ],
             [
              0.5555555555555556,
              "#d8576b"
             ],
             [
              0.6666666666666666,
              "#ed7953"
             ],
             [
              0.7777777777777778,
              "#fb9f3a"
             ],
             [
              0.8888888888888888,
              "#fdca26"
             ],
             [
              1,
              "#f0f921"
             ]
            ],
            "type": "heatmap"
           }
          ],
          "heatmapgl": [
           {
            "colorbar": {
             "outlinewidth": 0,
             "ticks": ""
            },
            "colorscale": [
             [
              0,
              "#0d0887"
             ],
             [
              0.1111111111111111,
              "#46039f"
             ],
             [
              0.2222222222222222,
              "#7201a8"
             ],
             [
              0.3333333333333333,
              "#9c179e"
             ],
             [
              0.4444444444444444,
              "#bd3786"
             ],
             [
              0.5555555555555556,
              "#d8576b"
             ],
             [
              0.6666666666666666,
              "#ed7953"
             ],
             [
              0.7777777777777778,
              "#fb9f3a"
             ],
             [
              0.8888888888888888,
              "#fdca26"
             ],
             [
              1,
              "#f0f921"
             ]
            ],
            "type": "heatmapgl"
           }
          ],
          "histogram": [
           {
            "marker": {
             "pattern": {
              "fillmode": "overlay",
              "size": 10,
              "solidity": 0.2
             }
            },
            "type": "histogram"
           }
          ],
          "histogram2d": [
           {
            "colorbar": {
             "outlinewidth": 0,
             "ticks": ""
            },
            "colorscale": [
             [
              0,
              "#0d0887"
             ],
             [
              0.1111111111111111,
              "#46039f"
             ],
             [
              0.2222222222222222,
              "#7201a8"
             ],
             [
              0.3333333333333333,
              "#9c179e"
             ],
             [
              0.4444444444444444,
              "#bd3786"
             ],
             [
              0.5555555555555556,
              "#d8576b"
             ],
             [
              0.6666666666666666,
              "#ed7953"
             ],
             [
              0.7777777777777778,
              "#fb9f3a"
             ],
             [
              0.8888888888888888,
              "#fdca26"
             ],
             [
              1,
              "#f0f921"
             ]
            ],
            "type": "histogram2d"
           }
          ],
          "histogram2dcontour": [
           {
            "colorbar": {
             "outlinewidth": 0,
             "ticks": ""
            },
            "colorscale": [
             [
              0,
              "#0d0887"
             ],
             [
              0.1111111111111111,
              "#46039f"
             ],
             [
              0.2222222222222222,
              "#7201a8"
             ],
             [
              0.3333333333333333,
              "#9c179e"
             ],
             [
              0.4444444444444444,
              "#bd3786"
             ],
             [
              0.5555555555555556,
              "#d8576b"
             ],
             [
              0.6666666666666666,
              "#ed7953"
             ],
             [
              0.7777777777777778,
              "#fb9f3a"
             ],
             [
              0.8888888888888888,
              "#fdca26"
             ],
             [
              1,
              "#f0f921"
             ]
            ],
            "type": "histogram2dcontour"
           }
          ],
          "mesh3d": [
           {
            "colorbar": {
             "outlinewidth": 0,
             "ticks": ""
            },
            "type": "mesh3d"
           }
          ],
          "parcoords": [
           {
            "line": {
             "colorbar": {
              "outlinewidth": 0,
              "ticks": ""
             }
            },
            "type": "parcoords"
           }
          ],
          "pie": [
           {
            "automargin": true,
            "type": "pie"
           }
          ],
          "scatter": [
           {
            "fillpattern": {
             "fillmode": "overlay",
             "size": 10,
             "solidity": 0.2
            },
            "type": "scatter"
           }
          ],
          "scatter3d": [
           {
            "line": {
             "colorbar": {
              "outlinewidth": 0,
              "ticks": ""
             }
            },
            "marker": {
             "colorbar": {
              "outlinewidth": 0,
              "ticks": ""
             }
            },
            "type": "scatter3d"
           }
          ],
          "scattercarpet": [
           {
            "marker": {
             "colorbar": {
              "outlinewidth": 0,
              "ticks": ""
             }
            },
            "type": "scattercarpet"
           }
          ],
          "scattergeo": [
           {
            "marker": {
             "colorbar": {
              "outlinewidth": 0,
              "ticks": ""
             }
            },
            "type": "scattergeo"
           }
          ],
          "scattergl": [
           {
            "marker": {
             "colorbar": {
              "outlinewidth": 0,
              "ticks": ""
             }
            },
            "type": "scattergl"
           }
          ],
          "scattermapbox": [
           {
            "marker": {
             "colorbar": {
              "outlinewidth": 0,
              "ticks": ""
             }
            },
            "type": "scattermapbox"
           }
          ],
          "scatterpolar": [
           {
            "marker": {
             "colorbar": {
              "outlinewidth": 0,
              "ticks": ""
             }
            },
            "type": "scatterpolar"
           }
          ],
          "scatterpolargl": [
           {
            "marker": {
             "colorbar": {
              "outlinewidth": 0,
              "ticks": ""
             }
            },
            "type": "scatterpolargl"
           }
          ],
          "scatterternary": [
           {
            "marker": {
             "colorbar": {
              "outlinewidth": 0,
              "ticks": ""
             }
            },
            "type": "scatterternary"
           }
          ],
          "surface": [
           {
            "colorbar": {
             "outlinewidth": 0,
             "ticks": ""
            },
            "colorscale": [
             [
              0,
              "#0d0887"
             ],
             [
              0.1111111111111111,
              "#46039f"
             ],
             [
              0.2222222222222222,
              "#7201a8"
             ],
             [
              0.3333333333333333,
              "#9c179e"
             ],
             [
              0.4444444444444444,
              "#bd3786"
             ],
             [
              0.5555555555555556,
              "#d8576b"
             ],
             [
              0.6666666666666666,
              "#ed7953"
             ],
             [
              0.7777777777777778,
              "#fb9f3a"
             ],
             [
              0.8888888888888888,
              "#fdca26"
             ],
             [
              1,
              "#f0f921"
             ]
            ],
            "type": "surface"
           }
          ],
          "table": [
           {
            "cells": {
             "fill": {
              "color": "#EBF0F8"
             },
             "line": {
              "color": "white"
             }
            },
            "header": {
             "fill": {
              "color": "#C8D4E3"
             },
             "line": {
              "color": "white"
             }
            },
            "type": "table"
           }
          ]
         },
         "layout": {
          "annotationdefaults": {
           "arrowcolor": "#2a3f5f",
           "arrowhead": 0,
           "arrowwidth": 1
          },
          "autotypenumbers": "strict",
          "coloraxis": {
           "colorbar": {
            "outlinewidth": 0,
            "ticks": ""
           }
          },
          "colorscale": {
           "diverging": [
            [
             0,
             "#8e0152"
            ],
            [
             0.1,
             "#c51b7d"
            ],
            [
             0.2,
             "#de77ae"
            ],
            [
             0.3,
             "#f1b6da"
            ],
            [
             0.4,
             "#fde0ef"
            ],
            [
             0.5,
             "#f7f7f7"
            ],
            [
             0.6,
             "#e6f5d0"
            ],
            [
             0.7,
             "#b8e186"
            ],
            [
             0.8,
             "#7fbc41"
            ],
            [
             0.9,
             "#4d9221"
            ],
            [
             1,
             "#276419"
            ]
           ],
           "sequential": [
            [
             0,
             "#0d0887"
            ],
            [
             0.1111111111111111,
             "#46039f"
            ],
            [
             0.2222222222222222,
             "#7201a8"
            ],
            [
             0.3333333333333333,
             "#9c179e"
            ],
            [
             0.4444444444444444,
             "#bd3786"
            ],
            [
             0.5555555555555556,
             "#d8576b"
            ],
            [
             0.6666666666666666,
             "#ed7953"
            ],
            [
             0.7777777777777778,
             "#fb9f3a"
            ],
            [
             0.8888888888888888,
             "#fdca26"
            ],
            [
             1,
             "#f0f921"
            ]
           ],
           "sequentialminus": [
            [
             0,
             "#0d0887"
            ],
            [
             0.1111111111111111,
             "#46039f"
            ],
            [
             0.2222222222222222,
             "#7201a8"
            ],
            [
             0.3333333333333333,
             "#9c179e"
            ],
            [
             0.4444444444444444,
             "#bd3786"
            ],
            [
             0.5555555555555556,
             "#d8576b"
            ],
            [
             0.6666666666666666,
             "#ed7953"
            ],
            [
             0.7777777777777778,
             "#fb9f3a"
            ],
            [
             0.8888888888888888,
             "#fdca26"
            ],
            [
             1,
             "#f0f921"
            ]
           ]
          },
          "colorway": [
           "#636efa",
           "#EF553B",
           "#00cc96",
           "#ab63fa",
           "#FFA15A",
           "#19d3f3",
           "#FF6692",
           "#B6E880",
           "#FF97FF",
           "#FECB52"
          ],
          "font": {
           "color": "#2a3f5f"
          },
          "geo": {
           "bgcolor": "white",
           "lakecolor": "white",
           "landcolor": "#E5ECF6",
           "showlakes": true,
           "showland": true,
           "subunitcolor": "white"
          },
          "hoverlabel": {
           "align": "left"
          },
          "hovermode": "closest",
          "mapbox": {
           "style": "light"
          },
          "paper_bgcolor": "white",
          "plot_bgcolor": "#E5ECF6",
          "polar": {
           "angularaxis": {
            "gridcolor": "white",
            "linecolor": "white",
            "ticks": ""
           },
           "bgcolor": "#E5ECF6",
           "radialaxis": {
            "gridcolor": "white",
            "linecolor": "white",
            "ticks": ""
           }
          },
          "scene": {
           "xaxis": {
            "backgroundcolor": "#E5ECF6",
            "gridcolor": "white",
            "gridwidth": 2,
            "linecolor": "white",
            "showbackground": true,
            "ticks": "",
            "zerolinecolor": "white"
           },
           "yaxis": {
            "backgroundcolor": "#E5ECF6",
            "gridcolor": "white",
            "gridwidth": 2,
            "linecolor": "white",
            "showbackground": true,
            "ticks": "",
            "zerolinecolor": "white"
           },
           "zaxis": {
            "backgroundcolor": "#E5ECF6",
            "gridcolor": "white",
            "gridwidth": 2,
            "linecolor": "white",
            "showbackground": true,
            "ticks": "",
            "zerolinecolor": "white"
           }
          },
          "shapedefaults": {
           "line": {
            "color": "#2a3f5f"
           }
          },
          "ternary": {
           "aaxis": {
            "gridcolor": "white",
            "linecolor": "white",
            "ticks": ""
           },
           "baxis": {
            "gridcolor": "white",
            "linecolor": "white",
            "ticks": ""
           },
           "bgcolor": "#E5ECF6",
           "caxis": {
            "gridcolor": "white",
            "linecolor": "white",
            "ticks": ""
           }
          },
          "title": {
           "x": 0.05
          },
          "xaxis": {
           "automargin": true,
           "gridcolor": "white",
           "linecolor": "white",
           "ticks": "",
           "title": {
            "standoff": 15
           },
           "zerolinecolor": "white",
           "zerolinewidth": 2
          },
          "yaxis": {
           "automargin": true,
           "gridcolor": "white",
           "linecolor": "white",
           "ticks": "",
           "title": {
            "standoff": 15
           },
           "zerolinecolor": "white",
           "zerolinewidth": 2
          }
         }
        },
        "title": {
         "font": {
          "family": "Arial",
          "size": 20
         },
         "text": "<b>Lançamentos de músicas por ano",
         "x": 0.5
        },
        "xaxis": {
         "anchor": "y",
         "domain": [
          0,
          1
         ],
         "title": {
          "text": "Ano"
         }
        },
        "yaxis": {
         "anchor": "x",
         "domain": [
          0,
          1
         ],
         "title": {
          "text": "Qtd. de Musicas"
         }
        }
       }
      }
     },
     "metadata": {},
     "output_type": "display_data"
    }
   ],
   "source": [
    "df_tay = df_taytay.copy()\n",
    "\n",
    "df_tay['release_date'] = pd.to_datetime(df_tay['release_date'])\n",
    "df_tay['year'] = df_tay['release_date'].dt.year\n",
    "\n",
    "fig=px.area(df_tay.groupby('year',as_index=False).count().sort_values(by='name',ascending=False).sort_values(by='year'),x='year',y='name',\n",
    "            markers=True,labels={'name':'Qtd. de Musicas', 'year':'Ano'},color_discrete_sequence=['purple'],title='<b>Lançamentos de músicas por ano')\n",
    "fig.update_layout(hovermode='x',title_x=0.5, title_font_size=20, title_font_family='Arial',)\n",
    "fig.show()"
   ]
  }
 ],
 "metadata": {
  "kernelspec": {
   "display_name": "Python 3",
   "language": "python",
   "name": "python3"
  },
  "language_info": {
   "codemirror_mode": {
    "name": "ipython",
    "version": 3
   },
   "file_extension": ".py",
   "mimetype": "text/x-python",
   "name": "python",
   "nbconvert_exporter": "python",
   "pygments_lexer": "ipython3",
   "version": "3.10.11"
  }
 },
 "nbformat": 4,
 "nbformat_minor": 2
}
